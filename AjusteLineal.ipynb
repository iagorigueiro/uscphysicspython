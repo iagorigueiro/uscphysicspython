{
 "cells": [
  {
   "cell_type": "markdown",
   "metadata": {},
   "source": [
    "# Programa de Ajuste Lineal por Mínimos Cuadrados"
   ]
  },
  {
   "cell_type": "markdown",
   "metadata": {},
   "source": [
    "Importamos los paquetes necesarios"
   ]
  },
  {
   "cell_type": "code",
   "execution_count": 60,
   "metadata": {
    "collapsed": true
   },
   "outputs": [],
   "source": [
    "import numpy as np\n",
    "\n",
    "from numpy.linalg import *\n",
    "\n",
    "import matplotlib.pyplot as plt\n",
    "\n",
    "%matplotlib inline\n",
    "\n",
    "from IPython.display import display, Latex\n",
    "\n",
    "import pandas as pd\n",
    "pd.set_option('precision', 2)"
   ]
  },
  {
   "cell_type": "markdown",
   "metadata": {},
   "source": [
    "La función de ajuste $y_i = a + b x_i$  pide tres listas de argumentos $\\{ x_i, y_i \\}$, y $\\sigma_i = \\sigma (y_i)$ donde  $i=1,...,n$ \n",
    "\n",
    "La minimización conduce al problema algebráico \n",
    "$$\\left( \\begin{array}{c} a \\\\ b \\end{array} \\right) = H^{-1} Z$$\n",
    "donde\n",
    "$$\n",
    "H = \\left( \\begin{array}{cc} \\sum_i \\frac{1}{\\sigma_i^{2}} & \\sum_i \\frac{x_i}{\\sigma_i^2} \\\\\n",
    "\\sum_i \\frac{x_i}{\\sigma_i^2} & \\sum_i \\frac{x^2_i}{\\sigma_i^2}\n",
    "\\end{array}\n",
    "\\right) ~~~; ~~~~  \n",
    "Z = \\frac{1}{\\Delta}\\left( \\begin{array}{c} \\sum_i\\frac{x_i^2}{\\sigma_i^2} \\\\  \n",
    " \\sum_i\\frac{1}{\\sigma_i^2} \\end{array}\n",
    "\\right)\n",
    "$$\n",
    "con $\\Delta= \\det H$.\n",
    "Además, las desviaciones estándar de $a$ y $b$ son \n",
    "$$\n",
    "\\sigma(a) =\\sqrt{ \\frac{1}{\\Delta} \\sum_i \\frac{x_i^2}{\\sigma_i^2}} ~~~; ~~~\n",
    "\\sigma(b) =\\sqrt{ \\frac{1}{\\Delta} \\sum_i \\frac{1}{\\sigma_i^2}}\\, .\n",
    "$$"
   ]
  },
  {
   "cell_type": "code",
   "execution_count": 100,
   "metadata": {
    "collapsed": true
   },
   "outputs": [],
   "source": [
    "def media(xlist):\n",
    "    return sum(xlist)/len(xlist)\n",
    "\n",
    "def sigma(xlist):\n",
    "    return np.sqrt(sum((xlist-media(xlist))**2)/(1.*len(xlist)*(len(xlist)-1.)))\n",
    "\n",
    "def sigmab(xlist):\n",
    "    return np.sqrt(sum((xlist-media(xlist))**2)/(1.*len(xlist)*(len(xlist)-1)))\n",
    "\n",
    "def utotal(ua,ub):\n",
    "    return np.sqrt(ua**2+ub**2)\n",
    "\n",
    "#ajuste lineal y=a+bx\n",
    "def ajustelinealponderado(x,y,sig):\n",
    "\n",
    "    H=np.array([[sum(1./sig**2),sum(x/sig**2)],[sum(x/sig**2),sum(x**2/sig**2)]])\n",
    "    Delta=det(H)\n",
    "    w=1.0/(sig*sig)\n",
    "    Z=np.array([sum(y/sig**2),sum((x*y)/sig**2)])\n",
    "    \n",
    "    ([a,b])=np.matmul(inv(H),Z)\n",
    "    \n",
    "    siga=np.sqrt(sum(x**2/sig**2)/Delta)\n",
    "    sigb=np.sqrt(sum(1./sig**2)/Delta)\n",
    "    r=(sum(w) * sum(w*x*y) - sum(w*x) * sum(w*y))/(np.sqrt ((sum(w) * sum(w*x*x) - sum(w*x) **2 )*( sum(w) * sum(w*y*y) - sum(w*y) **2)))\n",
    "    \n",
    "    return a,b,siga,sigb,r\n"
   ]
  },
  {
   "cell_type": "markdown",
   "metadata": {},
   "source": [
    "## En esta celda introducimos nuestros datos $\\{ x_i, y_i \\}$, $i=1,...,n$"
   ]
  },
  {
   "cell_type": "code",
   "execution_count": 62,
   "metadata": {},
   "outputs": [
    {
     "data": {
      "text/html": [
       "<div>\n",
       "<style>\n",
       "    .dataframe thead tr:only-child th {\n",
       "        text-align: right;\n",
       "    }\n",
       "\n",
       "    .dataframe thead th {\n",
       "        text-align: left;\n",
       "    }\n",
       "\n",
       "    .dataframe tbody tr th {\n",
       "        vertical-align: top;\n",
       "    }\n",
       "</style>\n",
       "<table border=\"1\" class=\"dataframe\">\n",
       "  <thead>\n",
       "    <tr style=\"text-align: right;\">\n",
       "      <th></th>\n",
       "      <th>x</th>\n",
       "      <th>y</th>\n",
       "    </tr>\n",
       "  </thead>\n",
       "  <tbody>\n",
       "    <tr>\n",
       "      <th>1</th>\n",
       "      <td>9.45</td>\n",
       "      <td>2.90</td>\n",
       "    </tr>\n",
       "    <tr>\n",
       "      <th>2</th>\n",
       "      <td>18.90</td>\n",
       "      <td>2.88</td>\n",
       "    </tr>\n",
       "    <tr>\n",
       "      <th>3</th>\n",
       "      <td>28.35</td>\n",
       "      <td>2.80</td>\n",
       "    </tr>\n",
       "    <tr>\n",
       "      <th>4</th>\n",
       "      <td>37.80</td>\n",
       "      <td>2.74</td>\n",
       "    </tr>\n",
       "    <tr>\n",
       "      <th>5</th>\n",
       "      <td>47.26</td>\n",
       "      <td>2.68</td>\n",
       "    </tr>\n",
       "    <tr>\n",
       "      <th>6</th>\n",
       "      <td>56.71</td>\n",
       "      <td>2.58</td>\n",
       "    </tr>\n",
       "    <tr>\n",
       "      <th>7</th>\n",
       "      <td>66.16</td>\n",
       "      <td>2.52</td>\n",
       "    </tr>\n",
       "    <tr>\n",
       "      <th>8</th>\n",
       "      <td>75.61</td>\n",
       "      <td>2.40</td>\n",
       "    </tr>\n",
       "    <tr>\n",
       "      <th>9</th>\n",
       "      <td>85.06</td>\n",
       "      <td>2.28</td>\n",
       "    </tr>\n",
       "    <tr>\n",
       "      <th>10</th>\n",
       "      <td>94.51</td>\n",
       "      <td>2.20</td>\n",
       "    </tr>\n",
       "    <tr>\n",
       "      <th>11</th>\n",
       "      <td>103.96</td>\n",
       "      <td>2.10</td>\n",
       "    </tr>\n",
       "    <tr>\n",
       "      <th>12</th>\n",
       "      <td>113.41</td>\n",
       "      <td>1.97</td>\n",
       "    </tr>\n",
       "    <tr>\n",
       "      <th>13</th>\n",
       "      <td>122.86</td>\n",
       "      <td>1.76</td>\n",
       "    </tr>\n",
       "    <tr>\n",
       "      <th>14</th>\n",
       "      <td>132.31</td>\n",
       "      <td>1.34</td>\n",
       "    </tr>\n",
       "  </tbody>\n",
       "</table>\n",
       "</div>"
      ],
      "text/plain": [
       "         x     y\n",
       "1     9.45  2.90\n",
       "2    18.90  2.88\n",
       "3    28.35  2.80\n",
       "4    37.80  2.74\n",
       "5    47.26  2.68\n",
       "6    56.71  2.58\n",
       "7    66.16  2.52\n",
       "8    75.61  2.40\n",
       "9    85.06  2.28\n",
       "10   94.51  2.20\n",
       "11  103.96  2.10\n",
       "12  113.41  1.97\n",
       "13  122.86  1.76\n",
       "14  132.31  1.34"
      ]
     },
     "metadata": {},
     "output_type": "display_data"
    }
   ],
   "source": [
    "x=np.array([9.451,18.902,28.353,37.804,47.255,56.706,66.157,75.608,85.059,94.51,103.961,113.412,122.863,132.314\n",
    "])\n",
    "y=np.array([ 2.901421594,2.879198457,2.797281335,2.740840024,2.681021529,2.58021683,2.517696473,2.397895273,2.282382386,2.197224577,2.104134154,1.974081026,1.757857918,1.335001067\n",
    "  ])\n",
    "n=len(x)\n",
    "\n",
    "datos = pd.DataFrame({'x': x, 'y': y},index=np.arange(n)+1)\n",
    "display(datos)"
   ]
  },
  {
   "cell_type": "code",
   "execution_count": 63,
   "metadata": {
    "scrolled": true
   },
   "outputs": [
    {
     "data": {
      "text/latex": [
       "\\begin{array}{|r|r|} \\hline x & y \\\\ \\hline9.45 & 2.90 \\\\18.90 & 2.88 \\\\28.35 & 2.80 \\\\37.80 & 2.74 \\\\47.26 & 2.68 \\\\56.71 & 2.58 \\\\66.16 & 2.52 \\\\75.61 & 2.40 \\\\85.06 & 2.28 \\\\94.51 & 2.20 \\\\\\hline \\end{array}"
      ],
      "text/plain": [
       "<IPython.core.display.Latex object>"
      ]
     },
     "metadata": {},
     "output_type": "display_data"
    }
   ],
   "source": [
    "cadena  = '\\\\begin{array}{|r|r|} \\hline x & y \\\\\\\\ \\hline'\n",
    "for i in range(10):\n",
    "    cadena += '%3.2f & %3.2f \\\\\\\\' % (x[i],y[i])\n",
    "cadena += '\\hline \\end{array}'\n",
    "\n",
    "display(Latex(cadena))"
   ]
  },
  {
   "cell_type": "markdown",
   "metadata": {},
   "source": [
    "calculemos la media $\\bar y = \\frac{1}{n}(\\sum_{i=1}^n y_i)$, y la desviación estándar de la media poblacional, que es aproximada por el estimador   $u_A=\\sigma(\\bar y) = \\sqrt{\\frac{\\sum_{i=1}^n (y_i - \\bar y)^2}{n(n-1)}}$"
   ]
  },
  {
   "cell_type": "code",
   "execution_count": 64,
   "metadata": {},
   "outputs": [
    {
     "data": {
      "text/latex": [
       "$ \\bar{y} =2 $"
      ],
      "text/plain": [
       "<IPython.core.display.Latex object>"
      ]
     },
     "metadata": {},
     "output_type": "display_data"
    }
   ],
   "source": [
    "ymed=media(y)\n",
    "display(Latex(r'$ \\bar{y} =%i $' % ymed))"
   ]
  },
  {
   "cell_type": "code",
   "execution_count": 6,
   "metadata": {},
   "outputs": [
    {
     "data": {
      "text/latex": [
       "$\\sigma(\\bar y)=74 $"
      ],
      "text/plain": [
       "<IPython.core.display.Latex object>"
      ]
     },
     "metadata": {},
     "output_type": "display_data"
    }
   ],
   "source": [
    "sigbar=sigmab(y)\n",
    "display(Latex(r'$\\sigma(\\bar y)=%i $' % sigbar))"
   ]
  },
  {
   "cell_type": "markdown",
   "metadata": {},
   "source": [
    "en caso de ser conocida, la desviación estándar de cada dato es  $\\sigma(y_i)$. En el ejemplo 3.18 del manual   $\\sigma(y_i) = \\sqrt{y_i}$ "
   ]
  },
  {
   "cell_type": "code",
   "execution_count": 7,
   "metadata": {
    "collapsed": true
   },
   "outputs": [],
   "source": [
    "sigi=np.sqrt(y)"
   ]
  },
  {
   "cell_type": "markdown",
   "metadata": {},
   "source": [
    "escogemos cuál de las dos es la que vamos a usar en el ajuste sigma = sigbar o sigma = sigi"
   ]
  },
  {
   "cell_type": "code",
   "execution_count": 9,
   "metadata": {
    "collapsed": true
   },
   "outputs": [],
   "source": [
    "uy=(0.2/np.sqrt(3))/y"
   ]
  },
  {
   "cell_type": "code",
   "execution_count": 10,
   "metadata": {},
   "outputs": [
    {
     "data": {
      "text/html": [
       "<div>\n",
       "<style>\n",
       "    .dataframe thead tr:only-child th {\n",
       "        text-align: right;\n",
       "    }\n",
       "\n",
       "    .dataframe thead th {\n",
       "        text-align: left;\n",
       "    }\n",
       "\n",
       "    .dataframe tbody tr th {\n",
       "        vertical-align: top;\n",
       "    }\n",
       "</style>\n",
       "<table border=\"1\" class=\"dataframe\">\n",
       "  <thead>\n",
       "    <tr style=\"text-align: right;\">\n",
       "      <th></th>\n",
       "      <th>sig</th>\n",
       "      <th>x</th>\n",
       "      <th>y</th>\n",
       "    </tr>\n",
       "  </thead>\n",
       "  <tbody>\n",
       "    <tr>\n",
       "      <th>1</th>\n",
       "      <td>0.04</td>\n",
       "      <td>9.45</td>\n",
       "      <td>2.90</td>\n",
       "    </tr>\n",
       "    <tr>\n",
       "      <th>2</th>\n",
       "      <td>0.04</td>\n",
       "      <td>18.90</td>\n",
       "      <td>2.88</td>\n",
       "    </tr>\n",
       "    <tr>\n",
       "      <th>3</th>\n",
       "      <td>0.04</td>\n",
       "      <td>28.35</td>\n",
       "      <td>2.80</td>\n",
       "    </tr>\n",
       "    <tr>\n",
       "      <th>4</th>\n",
       "      <td>0.04</td>\n",
       "      <td>37.80</td>\n",
       "      <td>2.74</td>\n",
       "    </tr>\n",
       "    <tr>\n",
       "      <th>5</th>\n",
       "      <td>0.04</td>\n",
       "      <td>47.26</td>\n",
       "      <td>2.68</td>\n",
       "    </tr>\n",
       "    <tr>\n",
       "      <th>6</th>\n",
       "      <td>0.04</td>\n",
       "      <td>56.71</td>\n",
       "      <td>2.58</td>\n",
       "    </tr>\n",
       "    <tr>\n",
       "      <th>7</th>\n",
       "      <td>0.05</td>\n",
       "      <td>66.16</td>\n",
       "      <td>2.52</td>\n",
       "    </tr>\n",
       "    <tr>\n",
       "      <th>8</th>\n",
       "      <td>0.05</td>\n",
       "      <td>75.61</td>\n",
       "      <td>2.40</td>\n",
       "    </tr>\n",
       "    <tr>\n",
       "      <th>9</th>\n",
       "      <td>0.05</td>\n",
       "      <td>85.06</td>\n",
       "      <td>2.28</td>\n",
       "    </tr>\n",
       "    <tr>\n",
       "      <th>10</th>\n",
       "      <td>0.05</td>\n",
       "      <td>94.51</td>\n",
       "      <td>2.20</td>\n",
       "    </tr>\n",
       "    <tr>\n",
       "      <th>11</th>\n",
       "      <td>0.05</td>\n",
       "      <td>103.96</td>\n",
       "      <td>2.10</td>\n",
       "    </tr>\n",
       "    <tr>\n",
       "      <th>12</th>\n",
       "      <td>0.06</td>\n",
       "      <td>113.41</td>\n",
       "      <td>1.97</td>\n",
       "    </tr>\n",
       "    <tr>\n",
       "      <th>13</th>\n",
       "      <td>0.07</td>\n",
       "      <td>122.86</td>\n",
       "      <td>1.76</td>\n",
       "    </tr>\n",
       "    <tr>\n",
       "      <th>14</th>\n",
       "      <td>0.09</td>\n",
       "      <td>132.31</td>\n",
       "      <td>1.34</td>\n",
       "    </tr>\n",
       "  </tbody>\n",
       "</table>\n",
       "</div>"
      ],
      "text/plain": [
       "     sig       x     y\n",
       "1   0.04    9.45  2.90\n",
       "2   0.04   18.90  2.88\n",
       "3   0.04   28.35  2.80\n",
       "4   0.04   37.80  2.74\n",
       "5   0.04   47.26  2.68\n",
       "6   0.04   56.71  2.58\n",
       "7   0.05   66.16  2.52\n",
       "8   0.05   75.61  2.40\n",
       "9   0.05   85.06  2.28\n",
       "10  0.05   94.51  2.20\n",
       "11  0.05  103.96  2.10\n",
       "12  0.06  113.41  1.97\n",
       "13  0.07  122.86  1.76\n",
       "14  0.09  132.31  1.34"
      ]
     },
     "metadata": {},
     "output_type": "display_data"
    }
   ],
   "source": [
    "datossig = pd.DataFrame({'x': x,'y': y ,'sig': uy},index=np.arange(n)+1)\n",
    "display(datossig)"
   ]
  },
  {
   "cell_type": "markdown",
   "metadata": {},
   "source": [
    "### Llamamos a la funcion de ajuste"
   ]
  },
  {
   "cell_type": "code",
   "execution_count": 103,
   "metadata": {},
   "outputs": [
    {
     "data": {
      "text/latex": [
       "$a$=3.097309 , $\\sigma_{a}$=0.024839"
      ],
      "text/plain": [
       "<IPython.core.display.Latex object>"
      ]
     },
     "metadata": {},
     "output_type": "display_data"
    },
    {
     "data": {
      "text/latex": [
       "$b$=-0.009990 , $\\sigma_{b}$=0.000365"
      ],
      "text/plain": [
       "<IPython.core.display.Latex object>"
      ]
     },
     "metadata": {},
     "output_type": "display_data"
    },
    {
     "data": {
      "text/latex": [
       "$b$=-0.970855"
      ],
      "text/plain": [
       "<IPython.core.display.Latex object>"
      ]
     },
     "metadata": {},
     "output_type": "display_data"
    }
   ],
   "source": [
    "a,b,siga,sigb,r = ajustelinealponderado(x,y,uy)\n",
    "\n",
    "display(Latex('$a$=%3.6f , $\\sigma_{a}$=%3.6f' % (a,siga) ))\n",
    "display(Latex('$b$=%3.6f , $\\sigma_{b}$=%3.6f' % (b,sigb) ))\n",
    "display(Latex('$b$=%.6f'%(r)))\n",
    "\n"
   ]
  },
  {
   "cell_type": "markdown",
   "metadata": {},
   "source": [
    "### Graficamos los datos y la curva obtenida"
   ]
  },
  {
   "cell_type": "code",
   "execution_count": 59,
   "metadata": {},
   "outputs": [
    {
     "data": {
      "image/png": "[encoded data removed]",
      "text/plain": [
       "<matplotlib.figure.Figure at 0xab48320>"
      ]
     },
     "metadata": {},
     "output_type": "display_data"
    }
   ],
   "source": [
    "Y= a + b*x\n",
    "\n",
    "plt.figure(figsize=(7,6))\n",
    "plt.plot(x,y, '.')\n",
    "plt.plot(x,Y)\n",
    "plt.grid()\n",
    "plt.show()"
   ]
  },
  {
   "cell_type": "markdown",
   "metadata": {},
   "source": [
    "también podemos graficar con las barras de error"
   ]
  },
  {
   "cell_type": "code",
   "execution_count": 58,
   "metadata": {},
   "outputs": [
    {
     "data": {
      "image/png": "[encoded data removed]",
      "text/plain": [
       "<matplotlib.figure.Figure at 0xc363668>"
      ]
     },
     "metadata": {},
     "output_type": "display_data"
    }
   ],
   "source": [
    "plt.figure(figsize=(7,6))\n",
    "plt.errorbar(x, y, yerr=uy,fmt= '.')\n",
    "plt.plot(x,Y,'g-')\n",
    "plt.legend(loc=\"upper right\")\n",
    "plt.xlabel(r' $t$ $\\mathrm{(s)} $')\n",
    "plt.ylabel(r'$\\ln A$')\n",
    "plt.savefig(\"fig.pdf\")\n"
   ]
  },
  {
   "cell_type": "code",
   "execution_count": null,
   "metadata": {
    "collapsed": true
   },
   "outputs": [],
   "source": []
  },
  {
   "cell_type": "code",
   "execution_count": null,
   "metadata": {
    "collapsed": true
   },
   "outputs": [],
   "source": []
  }
 ],
 "metadata": {
  "anaconda-cloud": {},
  "kernelspec": {
   "display_name": "Python 2",
   "language": "python",
   "name": "python2"
  },
  "language_info": {
   "codemirror_mode": {
    "name": "ipython",
    "version": 2
   },
   "file_extension": ".py",
   "mimetype": "text/x-python",
   "name": "python",
   "nbconvert_exporter": "python",
   "pygments_lexer": "ipython2",
   "version": "2.7.14"
  }
 },
 "nbformat": 4,
 "nbformat_minor": 1
}
