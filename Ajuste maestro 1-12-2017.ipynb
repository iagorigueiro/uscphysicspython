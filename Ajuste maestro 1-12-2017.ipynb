{
 "cells": [
  {
   "cell_type": "markdown",
   "metadata": {},
   "source": [
    "# Programa maestro 1/12/2017"
   ]
  },
  {
   "cell_type": "markdown",
   "metadata": {},
   "source": [
    "## Librerias importadas"
   ]
  },
  {
   "cell_type": "code",
   "execution_count": 50,
   "metadata": {
    "collapsed": true
   },
   "outputs": [],
   "source": [
    "import numpy as np\n",
    "\n",
    "from numpy.linalg import *\n",
    "\n",
    "import scipy.optimize as so\n",
    "\n",
    "import matplotlib.pyplot as plt\n",
    "\n",
    "%matplotlib inline\n",
    "\n",
    "from IPython.display import display, Latex\n",
    "\n",
    "import pandas as pd\n",
    "pd.set_option('precision', 2)\n",
    "\n",
    "from openpyxl import *"
   ]
  },
  {
   "cell_type": "markdown",
   "metadata": {},
   "source": [
    "## Selección del archivo excel "
   ]
  },
  {
   "cell_type": "code",
   "execution_count": 51,
   "metadata": {
    "collapsed": true
   },
   "outputs": [],
   "source": [
    "wb=load_workbook(filename=\"book.xlsx\")#nombre del archivo\n",
    "ws=wb[\"Hoja2\"] #nombre de la hoja de cálculo"
   ]
  },
  {
   "cell_type": "markdown",
   "metadata": {},
   "source": [
    "#### Importar datos en arrays "
   ]
  },
  {
   "cell_type": "code",
   "execution_count": 52,
   "metadata": {},
   "outputs": [],
   "source": [
    "wb=load_workbook(filename=\"book.xlsx\")#siempre importar la versión más actualizada del xlsx\n",
    "ws=wb[\"Hoja2\"] #nombre de la hoja de cálculo\n",
    "def columna_en_array(columna,altura):#COLUMNA ES UN NÚMERO\n",
    "    #suponiendo que los datos empiezan en la fila 2\n",
    "    arrai=np.array([])\n",
    "    for i in range(altura):\n",
    "        arrai= np.append(arrai,ws.cell(row=i+2, column=columna).value)\n",
    "    return arrai\n"
   ]
  },
  {
   "cell_type": "markdown",
   "metadata": {},
   "source": [
    "###### Test"
   ]
  },
  {
   "cell_type": "code",
   "execution_count": 63,
   "metadata": {},
   "outputs": [
    {
     "name": "stdout",
     "output_type": "stream",
     "text": [
      "[  421.   855.  1274.  1696.] [  421.   855.  1274.  1696.]\n"
     ]
    }
   ],
   "source": [
    "x=columna_en_array(1,4)\n",
    "y=columna_en_array(3,4)\n",
    "uy=y/1000\n",
    "print(x,y)"
   ]
  },
  {
   "cell_type": "markdown",
   "metadata": {},
   "source": [
    "## Exportar datos a excel"
   ]
  },
  {
   "cell_type": "code",
   "execution_count": 64,
   "metadata": {},
   "outputs": [],
   "source": [
    "def array_en_columna(arrai,columna):#COLUMNA EN LETRA                SIEMPRE CON EL EXCEL CERRADO\n",
    "    n=len(arrai)\n",
    "    for i in range(n):\n",
    "        letra=str(columna)+str(i+1) \n",
    "        ws[letra]=arrai[i]\n",
    "    wb.save(\"book.xlsx\")"
   ]
  },
  {
   "cell_type": "markdown",
   "metadata": {},
   "source": [
    "###### Test"
   ]
  },
  {
   "cell_type": "code",
   "execution_count": 65,
   "metadata": {},
   "outputs": [],
   "source": [
    "array_en_columna(x,\"D\") "
   ]
  },
  {
   "cell_type": "markdown",
   "metadata": {},
   "source": [
    "## Tratamiento estadístico"
   ]
  },
  {
   "cell_type": "code",
   "execution_count": 66,
   "metadata": {
    "collapsed": true
   },
   "outputs": [],
   "source": [
    "def media(xlist):\n",
    "    return sum(xlist)/len(xlist)\n",
    "\n",
    "def sigma(xlist):\n",
    "    return np.sqrt(sum((xlist-media(xlist))**2)/(1.*len(xlist)*(len(xlist)-1.)))\n",
    "\n",
    "def sigmab(xlist):\n",
    "    return np.sqrt(sum((xlist-media(xlist))**2)/(1.*len(xlist)*(len(xlist)-1)))\n",
    "\n",
    "def utotal(ua,ub):\n",
    "    return np.sqrt(ua**2+ub**2)\n",
    "\n",
    "def tratamiento_de_datos(arrai,ua):\n",
    "    res=media(arrai)\n",
    "    ub=sigmab(arrai)\n",
    "    ures=utotal(ua,ub)\n",
    "    return res,ures\n",
    "\n",
    "\n",
    "#ajuste lineal y=a+bx\n",
    "def ajustelinealponderado(x,y,sig):\n",
    "\n",
    "    H=np.array([[sum(1./sig**2),sum(x/sig**2)],[sum(x/sig**2),sum(x**2/sig**2)]])\n",
    "    Delta=det(H)\n",
    "    w=1.0/(sig*sig)\n",
    "    Z=np.array([sum(y/sig**2),sum((x*y)/sig**2)])\n",
    "    \n",
    "    ([a,b])=np.matmul(inv(H),Z)\n",
    "    \n",
    "    siga=np.sqrt(sum(x**2/sig**2)/Delta)\n",
    "    sigb=np.sqrt(sum(1./sig**2)/Delta)\n",
    "    r=(sum(w) * sum(w*x*y) - sum(w*x) * sum(w*y))/(np.sqrt ((sum(w) * sum(w*x*x) - sum(w*x) **2 )*( sum(w) * sum(w*y*y) - sum(w*y) **2)))\n",
    "    \n",
    "    return a,b,siga,sigb,r\n"
   ]
  },
  {
   "cell_type": "markdown",
   "metadata": {},
   "source": [
    "###### Test"
   ]
  },
  {
   "cell_type": "code",
   "execution_count": 67,
   "metadata": {},
   "outputs": [
    {
     "data": {
      "text/latex": [
       "$z$=1061.500000 , $\\sigma_{z}$=273.956961"
      ],
      "text/plain": [
       "<IPython.core.display.Latex object>"
      ]
     },
     "metadata": {},
     "output_type": "display_data"
    }
   ],
   "source": [
    "#Supongamos que x es el array con los valores medidos de la magnitud y\n",
    "z,uz=tratamiento_de_datos(x,0.001)\n",
    "display(Latex('$z$=%3.6f , $\\sigma_{z}$=%3.6f' % (z,uz) ))"
   ]
  },
  {
   "cell_type": "markdown",
   "metadata": {},
   "source": [
    "## Ajuste lineal"
   ]
  },
  {
   "cell_type": "markdown",
   "metadata": {},
   "source": [
    "###### Test"
   ]
  },
  {
   "cell_type": "code",
   "execution_count": 68,
   "metadata": {},
   "outputs": [
    {
     "data": {
      "text/latex": [
       "$a$=0.000000 , $\\sigma_{a}$=0.721026"
      ],
      "text/plain": [
       "<IPython.core.display.Latex object>"
      ]
     },
     "metadata": {},
     "output_type": "display_data"
    },
    {
     "data": {
      "text/latex": [
       "$b$=1.000000 , $\\sigma_{b}$=0.001018"
      ],
      "text/plain": [
       "<IPython.core.display.Latex object>"
      ]
     },
     "metadata": {},
     "output_type": "display_data"
    },
    {
     "data": {
      "text/latex": [
       "$r$=1.000000"
      ],
      "text/plain": [
       "<IPython.core.display.Latex object>"
      ]
     },
     "metadata": {},
     "output_type": "display_data"
    },
    {
     "data": {
      "image/png": "[encoded data removed]",
      "text/plain": [
       "<matplotlib.figure.Figure at 0x1ebc9f1fd68>"
      ]
     },
     "metadata": {},
     "output_type": "display_data"
    }
   ],
   "source": [
    "a,b,siga,sigb,r = ajustelinealponderado(x,y,uy)\n",
    "display(Latex('$a$=%3.6f , $\\sigma_{a}$=%3.6f' % (a,siga) ))\n",
    "display(Latex('$b$=%3.6f , $\\sigma_{b}$=%3.6f' % (b,sigb) ))\n",
    "display(Latex('$r$=%.6f'%(r)))\n",
    "\n",
    "Y= a + b*x\n",
    "plt.figure(figsize=(7,6))\n",
    "plt.errorbar(x, y, yerr=uy,fmt= '.',label=\"Puntos experimentais\")\n",
    "plt.plot(x,Y,'g-',label=\"Axuste lineal\")\n",
    "plt.legend(loc=\"upper left\")\n",
    "plt.xlabel(r' $x\\ \\mathrm{()} $')\n",
    "plt.ylabel(r'$y\\ \\mathrm{()}$')\n",
    "plt.savefig(\"fign.pdf\")"
   ]
  },
  {
   "cell_type": "markdown",
   "metadata": {},
   "source": [
    "## Ajuste no lineal"
   ]
  },
  {
   "cell_type": "markdown",
   "metadata": {},
   "source": [
    "###### Test"
   ]
  },
  {
   "cell_type": "code",
   "execution_count": 70,
   "metadata": {},
   "outputs": [
    {
     "data": {
      "text/latex": [
       "$b$=0.001570 , $\\sigma_{b}$=0.000001"
      ],
      "text/plain": [
       "<IPython.core.display.Latex object>"
      ]
     },
     "metadata": {},
     "output_type": "display_data"
    },
    {
     "data": {
      "image/png": "[encoded data removed]",
      "text/plain": [
       "<matplotlib.figure.Figure at 0x1ebca627668>"
      ]
     },
     "metadata": {},
     "output_type": "display_data"
    }
   ],
   "source": [
    "def fun(x,b): #aquí hay que trabajar en cada caso\n",
    "    y = b*x**2/2\n",
    "    return y\n",
    "\n",
    "sol = so.curve_fit(fun,x,y,sigma=uy,absolute_sigma=True)\n",
    "\n",
    "# La salida tiene dos arrays: sol[0] con los parámetros  \n",
    "b = sol[0]\n",
    "\n",
    "# y sol[1] con las incertidumbres. Ésta es una matriz de covarianza. Sí solo queremos las varianzas tomamos la diagonal\n",
    "sb = np.sqrt(np.diag(sol[1]))\n",
    "\n",
    "display(Latex('$b$=%3.6f , $\\sigma_{b}$=%3.6f' % (b,sb) ))\n",
    "\n",
    "yEst=fun(x,b)\n",
    "\n",
    "\n",
    "plt.figure(figsize=(7,6))\n",
    "plt.errorbar(x, y, yerr=uy,fmt= '.',label=\"Puntos experimentais\")\n",
    "plt.plot(x,yEst,'g-',label=\"Axuste non lineal\")\n",
    "plt.legend(loc=\"upper left\")\n",
    "plt.xlabel(r' $x\\ \\mathrm{()} $')\n",
    "plt.ylabel(r'$y\\ \\mathrm{()}$')\n",
    "plt.savefig(\"fign.pdf\")"
   ]
  },
  {
   "cell_type": "code",
   "execution_count": null,
   "metadata": {
    "collapsed": true
   },
   "outputs": [],
   "source": []
  }
 ],
 "metadata": {
  "kernelspec": {
   "display_name": "Python 3",
   "language": "python",
   "name": "python3"
  },
  "language_info": {
   "codemirror_mode": {
    "name": "ipython",
    "version": 3
   },
   "file_extension": ".py",
   "mimetype": "text/x-python",
   "name": "python",
   "nbconvert_exporter": "python",
   "pygments_lexer": "ipython3",
   "version": "3.6.3"
  }
 },
 "nbformat": 4,
 "nbformat_minor": 2
}
