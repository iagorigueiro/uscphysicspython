{
 "cells": [
  {
   "cell_type": "markdown",
   "metadata": {},
   "source": [
    "# Práctica de RM"
   ]
  },
  {
   "cell_type": "markdown",
   "metadata": {},
   "source": [
    "### Importamos las librerías básicas y para ajustes"
   ]
  },
  {
   "cell_type": "code",
   "execution_count": 5,
   "metadata": {
    "collapsed": true
   },
   "outputs": [],
   "source": [
    "import numpy as np\n",
    "\n",
    "from numpy.linalg import *\n",
    "\n",
    "import scipy.optimize as so\n",
    "\n",
    "import matplotlib.pyplot as plt\n",
    "\n",
    "%matplotlib inline\n",
    "\n",
    "from IPython.display import display, Latex\n",
    "\n",
    "import pandas as pd\n",
    "pd.set_option('precision', 2)\n",
    "\n",
    "from openpyxl import load_workbook\n",
    "wb = load_workbook(filename='openpyxl.xlsx', read_only=True)"
   ]
  },
  {
   "cell_type": "code",
   "execution_count": 6,
   "metadata": {
    "collapsed": true
   },
   "outputs": [],
   "source": [
    "def media(xlist):\n",
    "    return sum(xlist)/len(xlist)\n",
    "\n",
    "def sigma(xlist):\n",
    "    return np.sqrt(sum((xlist-media(xlist))**2)/(1.*len(xlist)*(len(xlist)-1.)))\n",
    "\n",
    "def sigmab(xlist):\n",
    "    return np.sqrt(sum((xlist-media(xlist))**2)/(1.*len(xlist)*(len(xlist)-1)))\n",
    "\n",
    "def utotal(ua,ub):\n",
    "    return np.sqrt(ua**2+ub**2)\n",
    "\n",
    "#ajuste lineal y=a+bx\n",
    "def ajustelinealponderado(x,y,sig):\n",
    "\n",
    "    H=np.array([[sum(1./sig**2),sum(x/sig**2)],[sum(x/sig**2),sum(x**2/sig**2)]])\n",
    "    Delta=det(H)\n",
    "    w=1.0/(sig*sig)\n",
    "    Z=np.array([sum(y/sig**2),sum((x*y)/sig**2)])\n",
    "    \n",
    "    ([a,b])=np.matmul(inv(H),Z)\n",
    "    \n",
    "    siga=np.sqrt(sum(x**2/sig**2)/Delta)\n",
    "    sigb=np.sqrt(sum(1./sig**2)/Delta)\n",
    "    r=(sum(w) * sum(w*x*y) - sum(w*x) * sum(w*y))/(np.sqrt ((sum(w) * sum(w*x*x) - sum(w*x) **2 )*( sum(w) * sum(w*y*y) - sum(w*y) **2)))\n",
    "    \n",
    "    return a,b,siga,sigb,r\n"
   ]
  },
  {
   "cell_type": "markdown",
   "metadata": {},
   "source": [
    "## Distancia = 211"
   ]
  },
  {
   "cell_type": "markdown",
   "metadata": {},
   "source": [
    "### De aquí importamos los datos que necesitamos para el ajuste"
   ]
  },
  {
   "cell_type": "code",
   "execution_count": 7,
   "metadata": {
    "collapsed": true
   },
   "outputs": [],
   "source": [
    "ws = wb['Hoja1']\n",
    "x1=np.array([])\n",
    "x2=np.array([])\n",
    "for i in range(5):#añado B a x1\n",
    "    x1=np.append(x1,[ws.cell(row=i+2,column=2).value])\n",
    "for i in range(5):#añado C a x2\n",
    "    x2=np.append(x2,[ws.cell(row=i+2,column=3).value])\n",
    "delta=0.0005\n",
    "\n"
   ]
  },
  {
   "cell_type": "code",
   "execution_count": 8,
   "metadata": {},
   "outputs": [
    {
     "name": "stdout",
     "output_type": "stream",
     "text": [
      "[ 4.014  4.012  4.023  4.015  4.018] [ 0.058  0.058  0.058  0.058  0.058] 0.0005\n"
     ]
    }
   ],
   "source": [
    "print (x1,x2,delta)"
   ]
  },
  {
   "cell_type": "code",
   "execution_count": 9,
   "metadata": {
    "scrolled": true
   },
   "outputs": [
    {
     "name": "stdout",
     "output_type": "stream",
     "text": [
      "4.0164 0.00197737199333\n",
      "0.058 0.0005\n"
     ]
    }
   ],
   "source": [
    "x1t=media(x1)\n",
    "x2t=media(x2)\n",
    "ua1=sigmab(x1)\n",
    "ua2=sigmab(x2)\n",
    "ub=0.0005\n",
    "ux1=utotal(ua1,ub)\n",
    "ux2=utotal(ua2,ub)\n",
    "print (x1t,ux1)\n",
    "print (x2t,ux2)"
   ]
  },
  {
   "cell_type": "markdown",
   "metadata": {},
   "source": [
    "## Distancia = 391"
   ]
  },
  {
   "cell_type": "markdown",
   "metadata": {},
   "source": [
    "### De aquí importamos los datos que necesitamos para el ajuste"
   ]
  },
  {
   "cell_type": "code",
   "execution_count": 10,
   "metadata": {
    "collapsed": true
   },
   "outputs": [],
   "source": [
    "ws = wb['Hoja1']\n",
    "x1=np.array([])\n",
    "x2=np.array([])\n",
    "for i in range(5):#añado B a x1\n",
    "    x1=np.append(x1,[ws.cell(row=i+2,column=5).value])\n",
    "for i in range(5):#añado C a x2\n",
    "    x2=np.append(x2,[ws.cell(row=i+2,column=6).value])\n",
    "delta=0.0005\n",
    "\n"
   ]
  },
  {
   "cell_type": "code",
   "execution_count": 11,
   "metadata": {},
   "outputs": [
    {
     "name": "stdout",
     "output_type": "stream",
     "text": [
      "[ 5.486  5.486  5.489  5.494  5.505] [ 0.043  0.043  0.044  0.043  0.043] 0.0005\n"
     ]
    }
   ],
   "source": [
    "print (x1,x2,delta)"
   ]
  },
  {
   "cell_type": "code",
   "execution_count": 12,
   "metadata": {
    "scrolled": true
   },
   "outputs": [
    {
     "name": "stdout",
     "output_type": "stream",
     "text": [
      "5.492 0.00359861084309\n",
      "0.0432 0.000538516480713\n"
     ]
    }
   ],
   "source": [
    "x1t=media(x1)\n",
    "x2t=media(x2)\n",
    "ua1=sigmab(x1)\n",
    "ua2=sigmab(x2)\n",
    "ub=0.0005\n",
    "ux1=utotal(ua1,ub)\n",
    "ux2=utotal(ua2,ub)\n",
    "print (x1t,ux1)\n",
    "print (x2t,ux2)"
   ]
  },
  {
   "cell_type": "markdown",
   "metadata": {},
   "source": [
    "## Distancia = 171"
   ]
  },
  {
   "cell_type": "markdown",
   "metadata": {},
   "source": [
    "### De aquí importamos los datos que necesitamos para el ajuste"
   ]
  },
  {
   "cell_type": "code",
   "execution_count": 13,
   "metadata": {
    "collapsed": true
   },
   "outputs": [],
   "source": [
    "ws = wb['Hoja1']\n",
    "x1=np.array([])\n",
    "x2=np.array([])\n",
    "for i in range(5):#añado B a x1\n",
    "    x1=np.append(x1,[ws.cell(row=i+2,column=8).value])\n",
    "for i in range(5):#añado C a x2\n",
    "    x2=np.append(x2,[ws.cell(row=i+2,column=9).value])\n",
    "delta=0.0005\n",
    "\n"
   ]
  },
  {
   "cell_type": "code",
   "execution_count": 14,
   "metadata": {},
   "outputs": [
    {
     "name": "stdout",
     "output_type": "stream",
     "text": [
      "[ 3.629  3.631  3.634  3.645  3.632] [ 0.064  0.064  0.064  0.064  0.064] 0.0005\n"
     ]
    }
   ],
   "source": [
    "print (x1,x2,delta)"
   ]
  },
  {
   "cell_type": "code",
   "execution_count": 15,
   "metadata": {
    "scrolled": true
   },
   "outputs": [
    {
     "name": "stdout",
     "output_type": "stream",
     "text": [
      "3.6342 0.00286181760425\n",
      "0.064 0.0005\n"
     ]
    }
   ],
   "source": [
    "x1t=media(x1)\n",
    "x2t=media(x2)\n",
    "ua1=sigmab(x1)\n",
    "ua2=sigmab(x2)\n",
    "ub=0.0005\n",
    "ux1=utotal(ua1,ub)\n",
    "ux2=utotal(ua2,ub)\n",
    "print (x1t,ux1)\n",
    "print (x2t,ux2)"
   ]
  },
  {
   "cell_type": "markdown",
   "metadata": {},
   "source": [
    "## Distancia = 274"
   ]
  },
  {
   "cell_type": "markdown",
   "metadata": {},
   "source": [
    "### De aquí importamos los datos que necesitamos para el ajuste"
   ]
  },
  {
   "cell_type": "code",
   "execution_count": 16,
   "metadata": {
    "collapsed": true
   },
   "outputs": [],
   "source": [
    "ws = wb['Hoja1']\n",
    "x1=np.array([])\n",
    "x2=np.array([])\n",
    "for i in range(5):#añado B a x1\n",
    "    x1=np.append(x1,[ws.cell(row=i+2,column=11).value])\n",
    "for i in range(3):#añado C a x2\n",
    "    x2=np.append(x2,[ws.cell(row=i+2,column=12).value])\n",
    "delta=0.0005\n",
    "\n"
   ]
  },
  {
   "cell_type": "code",
   "execution_count": 17,
   "metadata": {},
   "outputs": [
    {
     "name": "stdout",
     "output_type": "stream",
     "text": [
      "[ 4.586  4.577  4.577  4.587  4.574] [ 0.052  0.052  0.052] 0.0005\n"
     ]
    }
   ],
   "source": [
    "print (x1,x2,delta)"
   ]
  },
  {
   "cell_type": "code",
   "execution_count": 18,
   "metadata": {
    "scrolled": false
   },
   "outputs": [
    {
     "name": "stdout",
     "output_type": "stream",
     "text": [
      "4.5802 0.00268141753556\n",
      "0.052 0.0005\n"
     ]
    }
   ],
   "source": [
    "x1t=media(x1)\n",
    "x2t=media(x2)\n",
    "ua1=sigmab(x1)\n",
    "ua2=sigmab(x2)\n",
    "ub=0.0005\n",
    "ux1=utotal(ua1,ub)\n",
    "ux2=utotal(ua2,ub)\n",
    "print (x1t,ux1)\n",
    "print (x2t,ux2)"
   ]
  },
  {
   "cell_type": "markdown",
   "metadata": {},
   "source": [
    "## Distancia = 326"
   ]
  },
  {
   "cell_type": "markdown",
   "metadata": {},
   "source": [
    "### De aquí importamos los datos que necesitamos para el ajuste"
   ]
  },
  {
   "cell_type": "code",
   "execution_count": 19,
   "metadata": {
    "collapsed": true
   },
   "outputs": [],
   "source": [
    "ws = wb['Hoja1']\n",
    "x1=np.array([])\n",
    "x2=np.array([])\n",
    "for i in range(5):#añado B a x1\n",
    "    x1=np.append(x1,[ws.cell(row=i+2,column=14).value])\n",
    "for i in range(3):#añado C a x2\n",
    "    x2=np.append(x2,[ws.cell(row=i+2,column=15).value])\n",
    "delta=0.0005\n",
    "\n"
   ]
  },
  {
   "cell_type": "code",
   "execution_count": 20,
   "metadata": {},
   "outputs": [
    {
     "name": "stdout",
     "output_type": "stream",
     "text": [
      "[ 4.985  4.999  4.983  4.984  4.984] [ 0.047  0.048  0.048] 0.0005\n"
     ]
    }
   ],
   "source": [
    "print (x1,x2,delta)"
   ]
  },
  {
   "cell_type": "code",
   "execution_count": 21,
   "metadata": {
    "scrolled": true
   },
   "outputs": [
    {
     "name": "stdout",
     "output_type": "stream",
     "text": [
      "4.987 0.00305777697028\n",
      "0.0476666666667 0.000600925212577\n"
     ]
    }
   ],
   "source": [
    "x1t=media(x1)\n",
    "x2t=media(x2)\n",
    "ua1=sigmab(x1)\n",
    "ua2=sigmab(x2)\n",
    "ub=0.0005\n",
    "ux1=utotal(ua1,ub)\n",
    "ux2=utotal(ua2,ub)\n",
    "print (x1t,ux1)\n",
    "print (x2t,ux2)"
   ]
  },
  {
   "cell_type": "markdown",
   "metadata": {},
   "source": [
    "## Distancia =  442"
   ]
  },
  {
   "cell_type": "markdown",
   "metadata": {},
   "source": [
    "### De aquí importamos los datos que necesitamos para el ajuste"
   ]
  },
  {
   "cell_type": "code",
   "execution_count": 22,
   "metadata": {
    "collapsed": true
   },
   "outputs": [],
   "source": [
    "ws = wb['Hoja1']\n",
    "x1=np.array([])\n",
    "x2=np.array([])\n",
    "for i in range(5):#añado B a x1\n",
    "    x1=np.append(x1,[ws.cell(row=i+2,column=17).value])\n",
    "for i in range(3):#añado C a x2\n",
    "    x2=np.append(x2,[ws.cell(row=i+2,column=18).value])\n",
    "delta=0.0005\n",
    "\n"
   ]
  },
  {
   "cell_type": "code",
   "execution_count": 23,
   "metadata": {},
   "outputs": [
    {
     "name": "stdout",
     "output_type": "stream",
     "text": [
      "[ 5.805  5.827  5.797  5.796  5.799] [ 0.039  0.039  0.039] 0.0005\n"
     ]
    }
   ],
   "source": [
    "print (x1,x2,delta)"
   ]
  },
  {
   "cell_type": "code",
   "execution_count": 24,
   "metadata": {
    "scrolled": true
   },
   "outputs": [
    {
     "name": "stdout",
     "output_type": "stream",
     "text": [
      "5.8048 0.00578705451849\n",
      "0.039 0.0005\n"
     ]
    }
   ],
   "source": [
    "x1t=media(x1)\n",
    "x2t=media(x2)\n",
    "ua1=sigmab(x1)\n",
    "ua2=sigmab(x2)\n",
    "ub=0.0005\n",
    "ux1=utotal(ua1,ub)\n",
    "ux2=utotal(ua2,ub)\n",
    "print (x1t,ux1)\n",
    "print (x2t,ux2)"
   ]
  },
  {
   "cell_type": "markdown",
   "metadata": {},
   "source": [
    "## Distancia =  515"
   ]
  },
  {
   "cell_type": "markdown",
   "metadata": {},
   "source": [
    "### De aquí importamos los datos que necesitamos para el ajuste"
   ]
  },
  {
   "cell_type": "code",
   "execution_count": 25,
   "metadata": {
    "collapsed": true
   },
   "outputs": [],
   "source": [
    "ws = wb['Hoja1']\n",
    "x1=np.array([])\n",
    "x2=np.array([])\n",
    "for i in range(5):#añado B a x1\n",
    "    x1=np.append(x1,[ws.cell(row=i+2,column=20).value])\n",
    "for i in range(3):#añado C a x2\n",
    "    x2=np.append(x2,[ws.cell(row=i+2,column=21).value])\n",
    "delta=0.0005\n",
    "\n"
   ]
  },
  {
   "cell_type": "code",
   "execution_count": 26,
   "metadata": {},
   "outputs": [
    {
     "name": "stdout",
     "output_type": "stream",
     "text": [
      "[ 6.262  6.169  6.266  6.276  6.27 ] [ 0.037  0.037  0.037] 0.0005\n"
     ]
    }
   ],
   "source": [
    "print(x1,x2,delta)"
   ]
  },
  {
   "cell_type": "code",
   "execution_count": 27,
   "metadata": {
    "scrolled": true
   },
   "outputs": [
    {
     "name": "stdout",
     "output_type": "stream",
     "text": [
      "6.2486 0.0200402095797\n",
      "0.037 0.0005\n"
     ]
    }
   ],
   "source": [
    "x1t=media(x1)\n",
    "x2t=media(x2)\n",
    "ua1=sigmab(x1)\n",
    "ua2=sigmab(x2)\n",
    "ub=0.0005\n",
    "ux1=utotal(ua1,ub)\n",
    "ux2=utotal(ua2,ub)\n",
    "print (x1t,ux1)\n",
    "print (x2t,ux2)"
   ]
  },
  {
   "cell_type": "markdown",
   "metadata": {},
   "source": [
    "## Distancia =  581"
   ]
  },
  {
   "cell_type": "markdown",
   "metadata": {},
   "source": [
    "### De aquí importamos los datos que necesitamos para el ajuste"
   ]
  },
  {
   "cell_type": "code",
   "execution_count": 28,
   "metadata": {
    "collapsed": true
   },
   "outputs": [],
   "source": [
    "ws = wb['Hoja1']\n",
    "x1=np.array([])\n",
    "x2=np.array([])\n",
    "for i in range(5):#añado B a x1\n",
    "    x1=np.append(x1,[ws.cell(row=i+2,column=23).value])\n",
    "for i in range(3):#añado C a x2\n",
    "    x2=np.append(x2,[ws.cell(row=i+2,column=24).value])\n",
    "delta=0.0005\n",
    "\n"
   ]
  },
  {
   "cell_type": "code",
   "execution_count": 29,
   "metadata": {},
   "outputs": [
    {
     "name": "stdout",
     "output_type": "stream",
     "text": [
      "[ 6.663  6.654  6.663  6.661  6.651] [ 0.035  0.033  0.033] 0.0005\n"
     ]
    }
   ],
   "source": [
    "print (x1,x2,delta)"
   ]
  },
  {
   "cell_type": "code",
   "execution_count": 30,
   "metadata": {
    "scrolled": true
   },
   "outputs": [
    {
     "name": "stdout",
     "output_type": "stream",
     "text": [
      "6.6584 0.00253179778023\n",
      "0.0336666666667 0.000833333333333\n"
     ]
    }
   ],
   "source": [
    "x1t=media(x1)\n",
    "x2t=media(x2)\n",
    "ua1=sigmab(x1)\n",
    "ua2=sigmab(x2)\n",
    "ub=0.0005\n",
    "ux1=utotal(ua1,ub)\n",
    "ux2=utotal(ua2,ub)\n",
    "print (x1t,ux1)\n",
    "print (x2t,ux2)"
   ]
  },
  {
   "cell_type": "markdown",
   "metadata": {},
   "source": [
    "## Distancia =  129"
   ]
  },
  {
   "cell_type": "markdown",
   "metadata": {},
   "source": [
    "### De aquí importamos los datos que necesitamos para el ajuste"
   ]
  },
  {
   "cell_type": "code",
   "execution_count": 31,
   "metadata": {
    "collapsed": true
   },
   "outputs": [],
   "source": [
    "ws = wb['Hoja1']\n",
    "x1=np.array([])\n",
    "x2=np.array([])\n",
    "for i in range(5):#añado B a x1\n",
    "    x1=np.append(x1,[ws.cell(row=i+2,column=26).value])\n",
    "for i in range(3):#añado C a x2\n",
    "    x2=np.append(x2,[ws.cell(row=i+2,column=27).value])\n",
    "delta=0.0005\n",
    "\n"
   ]
  },
  {
   "cell_type": "code",
   "execution_count": 32,
   "metadata": {},
   "outputs": [
    {
     "name": "stdout",
     "output_type": "stream",
     "text": [
      "[ 3.171  3.174  3.159  3.16   3.158] [ 0.072  0.072  0.072] 0.0005\n"
     ]
    }
   ],
   "source": [
    "print (x1,x2,delta)"
   ]
  },
  {
   "cell_type": "code",
   "execution_count": 33,
   "metadata": {
    "scrolled": true
   },
   "outputs": [
    {
     "name": "stdout",
     "output_type": "stream",
     "text": [
      "3.1644 0.00339263909074\n",
      "0.072 0.0005\n"
     ]
    }
   ],
   "source": [
    "x1t=media(x1)\n",
    "x2t=media(x2)\n",
    "ua1=sigmab(x1)\n",
    "ua2=sigmab(x2)\n",
    "ub=0.0005\n",
    "ux1=utotal(ua1,ub)\n",
    "ux2=utotal(ua2,ub)\n",
    "print (x1t,ux1)\n",
    "print (x2t,ux2)"
   ]
  },
  {
   "cell_type": "markdown",
   "metadata": {},
   "source": [
    "## Distancia =  369"
   ]
  },
  {
   "cell_type": "markdown",
   "metadata": {},
   "source": [
    "### De aquí importamos los datos que necesitamos para el ajuste"
   ]
  },
  {
   "cell_type": "code",
   "execution_count": 34,
   "metadata": {
    "collapsed": true
   },
   "outputs": [],
   "source": [
    "ws = wb['Hoja1']\n",
    "x1=np.array([])\n",
    "x2=np.array([])\n",
    "for i in range(5):#añado B a x1\n",
    "    x1=np.append(x1,[ws.cell(row=i+2,column=29).value])\n",
    "for i in range(3):#añado C a x2\n",
    "    x2=np.append(x2,[ws.cell(row=i+2,column=30).value])\n",
    "delta=0.0005\n",
    "\n"
   ]
  },
  {
   "cell_type": "code",
   "execution_count": 35,
   "metadata": {},
   "outputs": [
    {
     "name": "stdout",
     "output_type": "stream",
     "text": [
      "[ 5.311  5.301  5.303  5.307  5.308] [ 0.043  0.043  0.043] 0.0005\n"
     ]
    }
   ],
   "source": [
    "print (x1,x2,delta)"
   ]
  },
  {
   "cell_type": "code",
   "execution_count": 36,
   "metadata": {
    "scrolled": true
   },
   "outputs": [
    {
     "name": "stdout",
     "output_type": "stream",
     "text": [
      "5.306 0.0018574175621\n",
      "0.043 0.0005\n"
     ]
    }
   ],
   "source": [
    "x1t=media(x1)\n",
    "x2t=media(x2)\n",
    "ua1=sigmab(x1)\n",
    "ua2=sigmab(x2)\n",
    "ub=0.0005\n",
    "ux1=utotal(ua1,ub)\n",
    "ux2=utotal(ua2,ub)\n",
    "print (x1t,ux1)\n",
    "print (x2t,ux2)"
   ]
  },
  {
   "cell_type": "code",
   "execution_count": null,
   "metadata": {
    "collapsed": true
   },
   "outputs": [],
   "source": []
  }
 ],
 "metadata": {
  "kernelspec": {
   "display_name": "Python 3",
   "language": "python",
   "name": "python3"
  },
  "language_info": {
   "codemirror_mode": {
    "name": "ipython",
    "version": 3
   },
   "file_extension": ".py",
   "mimetype": "text/x-python",
   "name": "python",
   "nbconvert_exporter": "python",
   "pygments_lexer": "ipython3",
   "version": "3.6.3"
  }
 },
 "nbformat": 4,
 "nbformat_minor": 2
}
